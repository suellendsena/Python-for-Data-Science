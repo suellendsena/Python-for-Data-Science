{
 "cells": [
  {
   "cell_type": "code",
   "execution_count": 145,
   "metadata": {},
   "outputs": [
    {
     "name": "stdout",
     "output_type": "stream",
     "text": [
      "Mean(Xn) for 10 samples is:  68.36\n"
     ]
    }
   ],
   "source": [
    "import numpy as np\n",
    "from numpy.random import randn\n",
    "sample_size = 10000\n",
    "sample_count = 0\n",
    "for i in range(sample_size):\n",
    "    random = randn()\n",
    "    if random >= -1 and random <= 1:\n",
    "        sample_count += 1\n",
    "result_10 = (sample_count / sample_size) * 100    \n",
    "print(\"Mean(Xn) for 10 samples is: \", result_10)   "
   ]
  }
 ],
 "metadata": {
  "kernelspec": {
   "display_name": "Python 3",
   "language": "python",
   "name": "python3"
  },
  "language_info": {
   "codemirror_mode": {
    "name": "ipython",
    "version": 3
   },
   "file_extension": ".py",
   "mimetype": "text/x-python",
   "name": "python",
   "nbconvert_exporter": "python",
   "pygments_lexer": "ipython3",
   "version": "3.7.4"
  }
 },
 "nbformat": 4,
 "nbformat_minor": 2
}
